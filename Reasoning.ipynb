{
  "nbformat": 4,
  "nbformat_minor": 0,
  "metadata": {
    "colab": {
      "name": "Reasoning.ipynb",
      "provenance": [],
      "collapsed_sections": []
    },
    "kernelspec": {
      "display_name": "Python 3",
      "name": "python3"
    },
    "language_info": {
      "name": "python"
    }
  },
  "cells": [
    {
      "cell_type": "markdown",
      "metadata": {
        "id": "HmeAE2JSxw4K"
      },
      "source": [
        "#Reasoning AI\n",
        "using pythonlog\n"
      ]
    },
    {
      "cell_type": "code",
      "metadata": {
        "colab": {
          "base_uri": "https://localhost:8080/"
        },
        "id": "p4lc7l5Hv-vJ",
        "outputId": "2888a2b0-48df-42d7-d867-075bcc0015a1"
      },
      "source": [
        "#install library pytholog\n",
        "!pip install pytholog"
      ],
      "execution_count": null,
      "outputs": [
        {
          "output_type": "stream",
          "text": [
            "Collecting pytholog\n",
            "  Downloading https://files.pythonhosted.org/packages/6f/d2/f432427a58986ce8ea9f9d2ac6b35dd9657e523dcc562048c19491b4980b/pytholog-2.4.1-py3-none-any.whl\n",
            "Requirement already satisfied: more-itertools in /usr/local/lib/python3.7/dist-packages (from pytholog) (8.7.0)\n",
            "Installing collected packages: pytholog\n",
            "Successfully installed pytholog-2.4.1\n"
          ],
          "name": "stdout"
        }
      ]
    },
    {
      "cell_type": "code",
      "metadata": {
        "id": "Aaqlk0Rcx4Iq"
      },
      "source": [
        "import pytholog as pl\n",
        "\n",
        "#membuat dan mengisi kb\n",
        "#ayah(x,y) artinya x adalah ayah y\n",
        "#saudara_kandung(x,y) artinya x adalah saudara kandung y\n",
        "#paman(x,y) artinya x adalah paman y\n",
        "#sepupu(x,y) artinya x adalah sepupu y\n",
        "#keponakan(x,y) artinya x adalah keponakan y\n",
        "\n",
        "#membuat kb family \n",
        "new_kb = pl.KnowledgeBase(\"family\")\n",
        "\n",
        "#mengisi kb family\n",
        "new_kb([\"ayah(budi, diana)\", #diketahui\n",
        "        \"ayah(budi, rendy)\", #diketahui\n",
        "        \"ayah(rizal, anne)\", #diketahui\n",
        "        \"ayah(rizal, rachel)\", #diketahui\n",
        "        \"saudara_kandung(budi, rizal)\", #diketahui\n",
        "        \"saudara_kandung(rizal, budi)\", #initialize\n",
        "        \"saudara_kandung(X, Y) :- ayah(A, X), ayah(A, Y)\",\n",
        "        \"paman(X, Y) :- saudara_kandung(X, A), ayah(A, Y)\",\n",
        "        \"sepupu(X, Y) :- ayah(A, X), ayah(B, Y), saudara_kandung(A, B)\",\n",
        "        \"keponakan(X, Y) :- ayah(A, X), saudara_kandung(A, Y)\"])"
      ],
      "execution_count": null,
      "outputs": []
    },
    {
      "cell_type": "markdown",
      "metadata": {
        "id": "vkqMn6MZWFRg"
      },
      "source": [
        "# Contoh Soal & Jawaban"
      ]
    },
    {
      "cell_type": "code",
      "metadata": {
        "colab": {
          "base_uri": "https://localhost:8080/"
        },
        "id": "y39vM4VNG4Ye",
        "outputId": "b3c593ce-18ff-4830-90cc-3a0c8f16e849"
      },
      "source": [
        "#Pertanyaan 2a\n",
        "#Siapakah saudara kandung diana?\n",
        "new_kb.query(pl.Expr(\"saudara_kandung(X, diana)\"))"
      ],
      "execution_count": null,
      "outputs": [
        {
          "output_type": "execute_result",
          "data": {
            "text/plain": [
              "[{'X': 'diana'}, {'X': 'rendy'}]"
            ]
          },
          "metadata": {
            "tags": []
          },
          "execution_count": 19
        }
      ]
    },
    {
      "cell_type": "code",
      "metadata": {
        "colab": {
          "base_uri": "https://localhost:8080/"
        },
        "id": "hwgvOTxxQ2Bs",
        "outputId": "081c61d6-66cc-499a-d1ff-184060f6c187"
      },
      "source": [
        "#Pertanyaan 2b\n",
        "#Siapakah sepupu anne?\n",
        "new_kb.query(pl.Expr(\"sepupu(X, anne)\"))"
      ],
      "execution_count": null,
      "outputs": [
        {
          "output_type": "execute_result",
          "data": {
            "text/plain": [
              "[{'X': 'diana'}, {'X': 'rendy'}]"
            ]
          },
          "metadata": {
            "tags": []
          },
          "execution_count": 168
        }
      ]
    },
    {
      "cell_type": "code",
      "metadata": {
        "id": "h4HlunnjRcbS",
        "colab": {
          "base_uri": "https://localhost:8080/"
        },
        "outputId": "80dcd7cf-8e67-42cb-ff28-cd49646b7575"
      },
      "source": [
        "#Pertanyaan 2c\n",
        "#Siapakah keponakan budi?\n",
        "new_kb.query(pl.Expr(\"keponakan(X, budi)\"))"
      ],
      "execution_count": null,
      "outputs": [
        {
          "output_type": "execute_result",
          "data": {
            "text/plain": [
              "[{'X': 'anne'}, {'X': 'rachel'}]"
            ]
          },
          "metadata": {
            "tags": []
          },
          "execution_count": 169
        }
      ]
    },
    {
      "cell_type": "code",
      "metadata": {
        "colab": {
          "base_uri": "https://localhost:8080/"
        },
        "id": "a643YsopSnMy",
        "outputId": "a2fe3ef1-dd12-4f3c-f0a4-fe5f2d16b51f"
      },
      "source": [
        "#Pertanyaan 2d\n",
        "#Rizal adalah paman dari siapa saja?\n",
        "new_kb.query(pl.Expr(\"paman(rizal, Y)\"))"
      ],
      "execution_count": null,
      "outputs": [
        {
          "output_type": "execute_result",
          "data": {
            "text/plain": [
              "[{'Y': 'diana'}, {'Y': 'rendy'}]"
            ]
          },
          "metadata": {
            "tags": []
          },
          "execution_count": 170
        }
      ]
    },
    {
      "cell_type": "code",
      "metadata": {
        "colab": {
          "base_uri": "https://localhost:8080/"
        },
        "id": "W5nZJs7MTz0_",
        "outputId": "b365c922-4aa4-416c-be4c-329663e3c54d"
      },
      "source": [
        "#Pertanyaan 2e\n",
        "#Siapa paman rendy?\n",
        "new_kb.query(pl.Expr(\"paman(X, rendy)\"))"
      ],
      "execution_count": null,
      "outputs": [
        {
          "output_type": "execute_result",
          "data": {
            "text/plain": [
              "[{'X': 'rizal'}]"
            ]
          },
          "metadata": {
            "tags": []
          },
          "execution_count": 164
        }
      ]
    },
    {
      "cell_type": "code",
      "metadata": {
        "colab": {
          "base_uri": "https://localhost:8080/"
        },
        "id": "YNNRmjtlhpzp",
        "outputId": "19e2ea1a-af21-4b93-8d37-100e7d3ef866"
      },
      "source": [
        "#Pertanyaan 2f\n",
        "#Apakah benar anne adalah sepupu dari diana?\n",
        "new_kb.query(pl.Expr(\"sepupu(anne, diana)\"))"
      ],
      "execution_count": null,
      "outputs": [
        {
          "output_type": "execute_result",
          "data": {
            "text/plain": [
              "['Yes']"
            ]
          },
          "metadata": {
            "tags": []
          },
          "execution_count": 24
        }
      ]
    },
    {
      "cell_type": "code",
      "metadata": {
        "colab": {
          "base_uri": "https://localhost:8080/"
        },
        "id": "WrFh6JfZh8X3",
        "outputId": "d1366c62-eec6-4901-a949-aa4af560a35a"
      },
      "source": [
        "#Pertanyaan 2g\n",
        "#Apakah benar budi paman dari anne?\n",
        "new_kb.query(pl.Expr(\"paman(budi, anne)\"))"
      ],
      "execution_count": null,
      "outputs": [
        {
          "output_type": "execute_result",
          "data": {
            "text/plain": [
              "['Yes']"
            ]
          },
          "metadata": {
            "tags": []
          },
          "execution_count": 171
        }
      ]
    }
  ]
}